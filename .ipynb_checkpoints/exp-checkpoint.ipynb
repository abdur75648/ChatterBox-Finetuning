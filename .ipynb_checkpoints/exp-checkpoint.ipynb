{
 "cells": [
  {
   "cell_type": "code",
   "execution_count": 1,
   "id": "30a6f31c-2181-4d06-a4e9-bef348fe2f8e",
   "metadata": {},
   "outputs": [],
   "source": [
    "import torch"
   ]
  },
  {
   "cell_type": "code",
   "execution_count": null,
   "id": "c23236dd-8d99-4e74-94c8-a88836524990",
   "metadata": {
    "editable": true,
    "slideshow": {
     "slide_type": ""
    },
    "tags": []
   },
   "outputs": [],
   "source": [
    "input_ids >>>  torch.Size([1, 356])\n",
    "vg_token_mask = input_ids[:, 1:] == self.vg_token_idx\n",
    "vg_token_mask >>>  torch.Size([1, 355])\n",
    "vg_token_mask >>>  torch.Size([1, 356])\n",
    "output_hidden_states >>>  torch.Size([1, 366, 5120])\n",
    "\n",
    "output = self.lm(**)\n",
    "output_hidden_states = output.hidden_states # A tuple\n",
    "output_hidden_states[-1].shape torch.Size([1, 366, 5120])\n",
    "\n",
    "hidden_states = [self.text_hidden_fcs[0](output_hidden_states[-1])]\n",
    "hidden_states[0] >>>  torch.Size([1, 366, 256])\n",
    "last_hidden_state >>>  torch.Size([1, 366, 256])\n",
    "pred_embeddings = last_hidden_state[vg_token_mask]\n",
    "Now this make pred_embeddings >>>  torch.Size([0, 256])"
   ]
  },
  {
   "cell_type": "code",
   "execution_count": null,
   "id": "95950926-cb4c-4ef3-9b8c-053bbf5fb757",
   "metadata": {},
   "outputs": [],
   "source": []
  },
  {
   "cell_type": "code",
   "execution_count": 12,
   "id": "0e31eaa9-726f-41ba-a7ad-4944edf98bfb",
   "metadata": {
    "editable": true,
    "slideshow": {
     "slide_type": ""
    },
    "tags": []
   },
   "outputs": [
    {
     "name": "stdout",
     "output_type": "stream",
     "text": [
      "torch.Size([1, 355])\n",
      "torch.Size([1, 356])\n"
     ]
    }
   ],
   "source": [
    "random_input_ids = torch.randint(low=0, high=1000, size=(1, 356))\n",
    "vg_token_idx = 50\n",
    "vg_token_mask = random_input_ids[:, 1:] == vg_token_idx\n",
    "print(vg_token_mask.shape)\n",
    "vg_token_mask = torch.cat(\n",
    "    [\n",
    "        vg_token_mask,\n",
    "        torch.zeros((vg_token_mask.shape[0], 1)).bool(),\n",
    "    ],\n",
    "    dim=1,\n",
    ")\n",
    "print(vg_token_mask.shape)\n"
   ]
  },
  {
   "cell_type": "code",
   "execution_count": 35,
   "id": "8cbe4408-225d-4fdd-a275-9e5fa9ed16ed",
   "metadata": {
    "editable": true,
    "slideshow": {
     "slide_type": ""
    },
    "tags": []
   },
   "outputs": [
    {
     "name": "stdout",
     "output_type": "stream",
     "text": [
      "torch.Size([1, 256])\n",
      "torch.Size([1, 356, 256])\n"
     ]
    }
   ],
   "source": []
  },
  {
   "cell_type": "code",
   "execution_count": 36,
   "id": "7e33a46f-a265-4967-8a82-f1fe424a3cdc",
   "metadata": {
    "editable": true,
    "slideshow": {
     "slide_type": ""
    },
    "tags": []
   },
   "outputs": [
    {
     "data": {
      "text/plain": [
       "torch.Size([356])"
      ]
     },
     "execution_count": 36,
     "metadata": {},
     "output_type": "execute_result"
    }
   ],
   "source": []
  },
  {
   "cell_type": "code",
   "execution_count": 41,
   "id": "5e2377fc-91e3-457d-8dd0-d5627bad8d79",
   "metadata": {
    "editable": true,
    "slideshow": {
     "slide_type": ""
    },
    "tags": []
   },
   "outputs": [
    {
     "name": "stdout",
     "output_type": "stream",
     "text": [
      "torch.Size([1, 256])\n",
      "torch.Size([1, 356, 256])\n",
      "torch.Size([356])\n",
      "torch.Size([1, 356, 256])\n"
     ]
    },
    {
     "data": {
      "text/plain": [
       "torch.Size([1, 229, 256])"
      ]
     },
     "execution_count": 41,
     "metadata": {},
     "output_type": "execute_result"
    }
   ],
   "source": [
    "vg_token_mask = torch.rand((1, 256)) < 0.9\n",
    "last_hidden_state = torch.randn(1, 356, 256)\n",
    "print(vg_token_mask.shape) # torch.Size([1, 256]) \n",
    "print(last_hidden_state.shape) # torch.Size([1, 356, 256])\n",
    "vg_token_mask = vg_token_mask.squeeze()\n",
    "padding = torch.zeros(100) \n",
    "vg_token_mask = torch.cat([vg_token_mask, padding])\n",
    "print(vg_token_mask.shape) # torch.Size([356]) \n",
    "print(last_hidden_state.shape) # torch.Size([1, 356, 256])\n",
    "vg_token_mask = vg_token_mask.to(torch.bool)\n",
    "pred_embeddings = last_hidden_state[:,vg_token_mask,:]\n",
    "pred_embeddings.shape"
   ]
  },
  {
   "cell_type": "code",
   "execution_count": 46,
   "id": "7cca0896-05d3-4264-aa15-fe2fbdfa2095",
   "metadata": {},
   "outputs": [
    {
     "data": {
      "text/plain": [
       "torch.Size([1, 229, 256])"
      ]
     },
     "execution_count": 46,
     "metadata": {},
     "output_type": "execute_result"
    }
   ],
   "source": [
    "pred_embeddings = last_hidden_state[:,vg_token_mask]\n",
    "pred_embeddings.shape"
   ]
  },
  {
   "cell_type": "code",
   "execution_count": null,
   "id": "0502aabb-0984-4cb2-9f3d-80ae4f328838",
   "metadata": {},
   "outputs": [],
   "source": []
  }
 ],
 "metadata": {
  "kernelspec": {
   "display_name": "Python 3 (ipykernel)",
   "language": "python",
   "name": "python3"
  },
  "language_info": {
   "codemirror_mode": {
    "name": "ipython",
    "version": 3
   },
   "file_extension": ".py",
   "mimetype": "text/x-python",
   "name": "python",
   "nbconvert_exporter": "python",
   "pygments_lexer": "ipython3",
   "version": "3.10.12"
  }
 },
 "nbformat": 4,
 "nbformat_minor": 5
}
